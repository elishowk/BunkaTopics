{
 "cells": [
  {
   "cell_type": "code",
   "execution_count": null,
   "id": "778b6c2e-611e-411f-b36b-ab62ad399b8d",
   "metadata": {},
   "outputs": [],
   "source": [
    "import sys\n",
    "\n",
    "sys.path.append(\"../\")\n",
    "\n",
    "from bunkatopics import Bunka\n",
    "from bunkatopics.functions.clean_text import clean_tweet\n",
    "from langchain.embeddings import HuggingFaceEmbeddings\n",
    "import random\n",
    "from datasets import load_dataset\n",
    "import os\n",
    "from dotenv import load_dotenv\n",
    "\n",
    "load_dotenv()"
   ]
  },
  {
   "cell_type": "code",
   "execution_count": null,
   "id": "b4968a84-8766-4d4b-b77c-185467d22c07",
   "metadata": {},
   "outputs": [],
   "source": [
    "dataset = load_dataset(\"rguo123/trump_tweets\")[\"train\"]\n",
    "full_docs = dataset[\"content\"]\n",
    "full_docs = random.sample(full_docs, 3000)\n",
    "full_docs = [clean_tweet(x) for x in full_docs]\n",
    "full_docs = [x for x in full_docs if len(x)>50]"
   ]
  },
  {
   "cell_type": "code",
   "execution_count": null,
   "id": "9fb23c81-f746-4a79-a33f-52062845042d",
   "metadata": {},
   "outputs": [],
   "source": []
  },
  {
   "cell_type": "code",
   "execution_count": null,
   "id": "21e0b21d-c0b0-4560-a913-9c6cc2b51b74",
   "metadata": {},
   "outputs": [],
   "source": [
    "embedding_model = HuggingFaceEmbeddings(model_name=\"all-MiniLM-L6-v2\")\n",
    "bunka = Bunka(embedding_model=embedding_model)"
   ]
  },
  {
   "cell_type": "markdown",
   "id": "6ea2a84a-2453-4ed7-9a8c-30abf4f1e561",
   "metadata": {},
   "source": [
    "Chose a Generative AI Model"
   ]
  },
  {
   "cell_type": "code",
   "execution_count": null,
   "id": "ff148f13-f1fb-48c7-ad31-cc75195c373e",
   "metadata": {},
   "outputs": [],
   "source": [
    "bunka.fit(full_docs)\n",
    "\n",
    "# Topic Modeling\n",
    "df_topics = bunka.get_topics(n_clusters=10)\n"
   ]
  },
  {
   "cell_type": "code",
   "execution_count": null,
   "id": "f3071704-b871-4d28-86d7-7704feb699ba",
   "metadata": {},
   "outputs": [],
   "source": []
  },
  {
   "cell_type": "code",
   "execution_count": null,
   "id": "4da69aff-a9ef-45f5-a346-50b74614c89c",
   "metadata": {},
   "outputs": [],
   "source": []
  },
  {
   "cell_type": "markdown",
   "id": "ee9d020b-11e7-4784-9855-c5ec464b33e5",
   "metadata": {},
   "source": [
    "Chose a Generative AI Model"
   ]
  },
  {
   "cell_type": "code",
   "execution_count": null,
   "id": "6e63ce2c-505c-4e9a-a137-18c067cc72b4",
   "metadata": {},
   "outputs": [],
   "source": [
    "from langchain.llms import OpenAI\n",
    "open_ai_generative_model = OpenAI(openai_api_key = os.getenv('OPEN_AI_KEY'))\n",
    "\n",
    "from langchain.llms import LlamaCpp\n",
    "generative_model = LlamaCpp(\n",
    "    model_path=os.getenv(\"MODEL_PATH\"),\n",
    "    n_ctx=2048,\n",
    "    temperature=0.75,\n",
    "    max_tokens=2000,\n",
    "    top_p=1,\n",
    "    verbose=False,\n",
    ")\n",
    "generative_model.client.verbose = False"
   ]
  },
  {
   "cell_type": "code",
   "execution_count": null,
   "id": "476e53b7-6de6-46ee-8dc3-ef325b9e1b9a",
   "metadata": {},
   "outputs": [],
   "source": [
    "# Topic Modeling Clean\n",
    "df_topics = bunka.get_clean_topic_name(generative_model=open_ai_generative_model)\n",
    "topic_fig_clean = bunka.visualize_topics(width=800, height=800)\n",
    "topic_fig_clean.show()"
   ]
  },
  {
   "cell_type": "code",
   "execution_count": null,
   "id": "490f4ff9-720c-4af3-b428-7d69fa922da6",
   "metadata": {},
   "outputs": [],
   "source": [
    "fig_solo = bunka.visualize_bourdieu_one_dimension(\n",
    "    left=[\"negative\", \"bad\"],\n",
    "    right=[\"positive\"],\n",
    "    width=600,\n",
    "    height=600,\n",
    "    explainer=False,\n",
    ")\n",
    "\n",
    "fig_solo.show()"
   ]
  },
  {
   "cell_type": "code",
   "execution_count": null,
   "id": "81c9a535-a125-4732-a536-057fe1afaff4",
   "metadata": {},
   "outputs": [],
   "source": [
    "bourdieu_fig = bunka.visualize_bourdieu(\n",
    "    generative_model=open_ai_generative_model,\n",
    "    x_left_words=[\"war\"],\n",
    "    x_right_words=[\"peace\"],\n",
    "    y_top_words=[\"men\"],\n",
    "    y_bottom_words=[\"women\"],\n",
    "    height=800,\n",
    "    width=800,\n",
    "    label_size_ratio_label=50,\n",
    "    display_percent=True,\n",
    "    clustering=True,\n",
    "    topic_n_clusters=10,\n",
    "    topic_terms=5,\n",
    "    topic_top_terms_overall=500,\n",
    "    topic_gen_name=True,\n",
    ")\n",
    "\n",
    "bourdieu_fig.show()"
   ]
  },
  {
   "cell_type": "code",
   "execution_count": null,
   "id": "2a7813a8-3bfa-4c9f-8c0b-977969423345",
   "metadata": {},
   "outputs": [],
   "source": [
    "res = bunka.rag_query(query = 'Who is Donald Trump', generative_model = generative_model, top_doc = 5)"
   ]
  },
  {
   "cell_type": "code",
   "execution_count": null,
   "id": "6562f773-8cac-4b77-8212-f6066afa32d2",
   "metadata": {},
   "outputs": [],
   "source": [
    "print(res['result'])"
   ]
  },
  {
   "cell_type": "code",
   "execution_count": null,
   "id": "e3b3dfc3-8fb0-4707-a50d-6e1671d69de0",
   "metadata": {
    "scrolled": true
   },
   "outputs": [],
   "source": [
    "for doc in res['source_documents']:\n",
    "    text = doc.page_content.strip()\n",
    "    print(text)"
   ]
  },
  {
   "cell_type": "code",
   "execution_count": null,
   "id": "f6355850-9644-4112-8efd-b8b3f5e9c17c",
   "metadata": {},
   "outputs": [],
   "source": []
  }
 ],
 "metadata": {
  "kernelspec": {
   "display_name": "Python 3 (ipykernel)",
   "language": "python",
   "name": "python3"
  },
  "language_info": {
   "codemirror_mode": {
    "name": "ipython",
    "version": 3
   },
   "file_extension": ".py",
   "mimetype": "text/x-python",
   "name": "python",
   "nbconvert_exporter": "python",
   "pygments_lexer": "ipython3",
   "version": "3.10.13"
  }
 },
 "nbformat": 4,
 "nbformat_minor": 5
}
