{
 "cells": [
  {
   "cell_type": "markdown",
   "id": "6ea2a84a-2453-4ed7-9a8c-30abf4f1e561",
   "metadata": {},
   "source": [
    "# Generate Topics and launch the web app"
   ]
  },
  {
   "cell_type": "code",
   "execution_count": 1,
   "id": "82813768",
   "metadata": {},
   "outputs": [
    {
     "name": "stderr",
     "output_type": "stream",
     "text": [
      "2023-10-20 12:17:04.717192: E tensorflow/compiler/xla/stream_executor/cuda/cuda_dnn.cc:9342] Unable to register cuDNN factory: Attempting to register factory for plugin cuDNN when one has already been registered\n",
      "2023-10-20 12:17:04.717230: E tensorflow/compiler/xla/stream_executor/cuda/cuda_fft.cc:609] Unable to register cuFFT factory: Attempting to register factory for plugin cuFFT when one has already been registered\n",
      "2023-10-20 12:17:04.717264: E tensorflow/compiler/xla/stream_executor/cuda/cuda_blas.cc:1518] Unable to register cuBLAS factory: Attempting to register factory for plugin cuBLAS when one has already been registered\n",
      "2023-10-20 12:17:04.725824: I tensorflow/core/platform/cpu_feature_guard.cc:182] This TensorFlow binary is optimized to use available CPU instructions in performance-critical operations.\n",
      "To enable the following instructions: AVX2 FMA, in other operations, rebuild TensorFlow with the appropriate compiler flags.\n",
      "2023-10-20 12:17:05.508652: W tensorflow/compiler/tf2tensorrt/utils/py_utils.cc:38] TF-TRT Warning: Could not find TensorRT\n",
      "2023-10-20 12:17:15.035185: E tensorflow/compiler/xla/stream_executor/cuda/cuda_driver.cc:268] failed call to cuInit: CUDA_ERROR_NO_DEVICE: no CUDA-capable device is detected\n"
     ]
    }
   ],
   "source": [
    "import os\n",
    "import subprocess\n",
    "import webbrowser\n",
    "import time\n",
    "from pathlib import Path\n",
    "import json\n",
    "from pathlib import Path\n",
    "from bunkatopics.functions.web import launch_web_app"
   ]
  },
  {
   "cell_type": "markdown",
   "id": "d11f02ee",
   "metadata": {},
   "source": [
    "# Load documents and topics"
   ]
  },
  {
   "cell_type": "code",
   "execution_count": 2,
   "id": "ff148f13-f1fb-48c7-ad31-cc75195c373e",
   "metadata": {},
   "outputs": [],
   "source": [
    "documents_path = Path('json_examples/docs.jsonl')\n",
    "topics_path = Path('json_examples/topics.jsonl')\n",
    "topics = []\n",
    "documents = []\n",
    "# Open the JSONL files and load data\n",
    "with open(topics_path, 'r') as serialized_topics:\n",
    "    for line in serialized_topics:\n",
    "        # Parse each line as a JSON object and append it to the list\n",
    "        data = json.loads(line)\n",
    "        topics.append(data)\n",
    "\n",
    "with open(documents_path, 'r') as serialized_documents:\n",
    "    for line in serialized_documents:\n",
    "        # Parse each line as a JSON object and append it to the list\n",
    "        data = json.loads(line)\n",
    "        documents.append(data)\n",
    "\n",
    "source_data = {\n",
    "    'documents': documents,\n",
    "    'topics': topics\n",
    "}"
   ]
  },
  {
   "cell_type": "code",
   "execution_count": 3,
   "id": "de329016",
   "metadata": {},
   "outputs": [
    {
     "name": "stdout",
     "output_type": "stream",
     "text": [
      "/home/elishowk/src/BunkaTopics/web/public/localSearchResults.json\n",
      "export NEXT_PUBLIC_API_ENDPOINT=local\n",
      "cd web && npm i && npm run start\n",
      "\n",
      "up to date, audited 432 packages in 3s\n",
      "\n",
      "118 packages are looking for funding\n",
      "  run `npm fund` for details\n",
      "\n",
      "4 vulnerabilities (2 moderate, 2 high)\n",
      "\n",
      "To address all issues possible, run:\n",
      "  npm audit fix --force\n",
      "\n",
      "Some issues need review, and may require choosing\n",
      "a different dependency.\n",
      "\n",
      "Run `npm audit` for details.\n",
      "\n",
      "> bunkatopicsweb@0.1.0 prestart\n",
      "> next build\n",
      "\n"
     ]
    },
    {
     "name": "stderr",
     "output_type": "stream",
     "text": [
      "\u001b[33mwarn\u001b[39m  - You are using a non-standard \"NODE_ENV\" value in your environment. This creates inconsistencies in the project and is strongly advised against. Read more: https://nextjs.org/docs/messages/non-standard-node-env\n"
     ]
    },
    {
     "name": "stdout",
     "output_type": "stream",
     "text": [
      "\u001b[36minfo\u001b[39m  - Loaded env from /home/elishowk/src/BunkaTopics/web/.env.local\n",
      "\u001b[36minfo\u001b[39m  - Linting and checking validity of types...\n"
     ]
    },
    {
     "name": "stdout",
     "output_type": "stream",
     "text": [
      "\u001b[36minfo\u001b[39m  - Creating an optimized production build...\n",
      "\u001b[36minfo\u001b[39m  - Compiled successfully\n",
      "\u001b[36minfo\u001b[39m  - Collecting page data...\n",
      "\u001b[36minfo\u001b[39m  - Generating static pages (0/10)\n",
      "\u001b[36mnext-translate\u001b[0m - compiled page: \u001b[36m/\u001b[0m - locale: \u001b[36men\u001b[0m - namespaces: \u001b[36mcommon\u001b[0m - used loader: \u001b[36mgetStaticProps\u001b[0m\n",
      "\u001b[36mnext-translate\u001b[0m - compiled page: \u001b[36m/\u001b[0m - locale: \u001b[36mfr\u001b[0m - namespaces: \u001b[36mcommon\u001b[0m - used loader: \u001b[36mgetStaticProps\u001b[0m\n",
      "\u001b[36minfo\u001b[39m  - Generating static pages (2/10)\n",
      "\u001b[36minfo\u001b[39m  - Generating static pages (4/10)\n",
      "\u001b[36minfo\u001b[39m  - Generating static pages (7/10)\n",
      "\u001b[36mnext-translate\u001b[0m - compiled page: \u001b[36m/search\u001b[0m - locale: \u001b[36mfr\u001b[0m - namespaces: \u001b[36mcommon\u001b[0m - used loader: \u001b[36mgetStaticProps\u001b[0m\n",
      "\u001b[36mnext-translate\u001b[0m - compiled page: \u001b[36m/search\u001b[0m - locale: \u001b[36men\u001b[0m - namespaces: \u001b[36mcommon\u001b[0m - used loader: \u001b[36mgetStaticProps\u001b[0m\n",
      "\u001b[36minfo\u001b[39m  - Generating static pages (10/10)\n",
      "\u001b[36minfo\u001b[39m  - Finalizing page optimization...\n",
      "\n",
      "\u001b[4mRoute (pages)\u001b[24m                              \u001b[4mSize\u001b[24m     \u001b[4mFirst Load JS\u001b[24m\n",
      "┌ ● /                                      9.32 kB         \u001b[33m165 kB\u001b[39m\n",
      "├   /_app                                  0 B             \u001b[32m104 kB\u001b[39m\n",
      "├ ○ /404                                   182 B           \u001b[32m105 kB\u001b[39m\n",
      "└ ● /search                                315 kB          \u001b[31m\u001b[1m471 kB\u001b[22m\u001b[39m\n",
      "+ First Load JS shared by all              \u001b[32m105 kB\u001b[39m\n",
      "  ├ chunks/framework-15c3dace8483891e.js   45.4 kB\n",
      "  ├ chunks/main-34f6eddfc8e82aba.js        27.7 kB\n",
      "  ├ chunks/pages/_app-d6e44887b2fc7bfb.js  29.5 kB\n",
      "  ├ chunks/webpack-43621feb486a5218.js     1.85 kB\n",
      "  └ css/b9135e20f0c0e329.css               910 B\n",
      "\n",
      "○  (Static)  automatically rendered as static HTML (uses no initial props)\n",
      "●  (SSG)     automatically generated as static HTML + JSON (uses \u001b[36mgetStaticProps\u001b[39m)\n",
      "\n",
      "\n",
      "> bunkatopicsweb@0.1.0 start\n",
      "> next start\n",
      "\n",
      "\u001b[32mready\u001b[39m - started server on 0.0.0.0:3000, url: http://localhost:3000\n",
      "\u001b[36minfo\u001b[39m  - Loaded env from /home/elishowk/src/BunkaTopics/web/.env.local\n"
     ]
    },
    {
     "name": "stderr",
     "output_type": "stream",
     "text": [
      "\u001b[33mwarn\u001b[39m  - You are using a non-standard \"NODE_ENV\" value in your environment. This creates inconsistencies in the project and is strongly advised against. Read more: https://nextjs.org/docs/messages/non-standard-node-env\n",
      "\u001b[33mwarn\u001b[39m  - You are using a non-standard \"NODE_ENV\" value in your environment. This creates inconsistencies in the project and is strongly advised against. Read more: https://nextjs.org/docs/messages/non-standard-node-env\n"
     ]
    }
   ],
   "source": [
    "launch_web_app(source_data)\n"
   ]
  }
 ],
 "metadata": {
  "kernelspec": {
   "display_name": "Python 3 (ipykernel)",
   "language": "python",
   "name": "python3"
  },
  "language_info": {
   "codemirror_mode": {
    "name": "ipython",
    "version": 3
   },
   "file_extension": ".py",
   "mimetype": "text/x-python",
   "name": "python",
   "nbconvert_exporter": "python",
   "pygments_lexer": "ipython3",
   "version": "3.10.13"
  }
 },
 "nbformat": 4,
 "nbformat_minor": 5
}
